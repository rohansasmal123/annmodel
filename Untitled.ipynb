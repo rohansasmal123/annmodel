{
 "cells": [
  {
   "cell_type": "code",
   "execution_count": 1,
   "metadata": {},
   "outputs": [],
   "source": [
    "import pandas as pd"
   ]
  },
  {
   "cell_type": "code",
   "execution_count": 2,
   "metadata": {},
   "outputs": [],
   "source": [
    "dataset = pd.read_csv('Churn_Modelling.csv')"
   ]
  },
  {
   "cell_type": "code",
   "execution_count": 3,
   "metadata": {},
   "outputs": [
    {
     "data": {
      "text/html": [
       "<div>\n",
       "<style scoped>\n",
       "    .dataframe tbody tr th:only-of-type {\n",
       "        vertical-align: middle;\n",
       "    }\n",
       "\n",
       "    .dataframe tbody tr th {\n",
       "        vertical-align: top;\n",
       "    }\n",
       "\n",
       "    .dataframe thead th {\n",
       "        text-align: right;\n",
       "    }\n",
       "</style>\n",
       "<table border=\"1\" class=\"dataframe\">\n",
       "  <thead>\n",
       "    <tr style=\"text-align: right;\">\n",
       "      <th></th>\n",
       "      <th>RowNumber</th>\n",
       "      <th>CustomerId</th>\n",
       "      <th>Surname</th>\n",
       "      <th>CreditScore</th>\n",
       "      <th>Geography</th>\n",
       "      <th>Gender</th>\n",
       "      <th>Age</th>\n",
       "      <th>Tenure</th>\n",
       "      <th>Balance</th>\n",
       "      <th>NumOfProducts</th>\n",
       "      <th>HasCrCard</th>\n",
       "      <th>IsActiveMember</th>\n",
       "      <th>EstimatedSalary</th>\n",
       "      <th>Exited</th>\n",
       "    </tr>\n",
       "  </thead>\n",
       "  <tbody>\n",
       "    <tr>\n",
       "      <th>0</th>\n",
       "      <td>1</td>\n",
       "      <td>15634602</td>\n",
       "      <td>Hargrave</td>\n",
       "      <td>619</td>\n",
       "      <td>France</td>\n",
       "      <td>Female</td>\n",
       "      <td>42</td>\n",
       "      <td>2</td>\n",
       "      <td>0.00</td>\n",
       "      <td>1</td>\n",
       "      <td>1</td>\n",
       "      <td>1</td>\n",
       "      <td>101348.88</td>\n",
       "      <td>1</td>\n",
       "    </tr>\n",
       "    <tr>\n",
       "      <th>1</th>\n",
       "      <td>2</td>\n",
       "      <td>15647311</td>\n",
       "      <td>Hill</td>\n",
       "      <td>608</td>\n",
       "      <td>Spain</td>\n",
       "      <td>Female</td>\n",
       "      <td>41</td>\n",
       "      <td>1</td>\n",
       "      <td>83807.86</td>\n",
       "      <td>1</td>\n",
       "      <td>0</td>\n",
       "      <td>1</td>\n",
       "      <td>112542.58</td>\n",
       "      <td>0</td>\n",
       "    </tr>\n",
       "    <tr>\n",
       "      <th>2</th>\n",
       "      <td>3</td>\n",
       "      <td>15619304</td>\n",
       "      <td>Onio</td>\n",
       "      <td>502</td>\n",
       "      <td>France</td>\n",
       "      <td>Female</td>\n",
       "      <td>42</td>\n",
       "      <td>8</td>\n",
       "      <td>159660.80</td>\n",
       "      <td>3</td>\n",
       "      <td>1</td>\n",
       "      <td>0</td>\n",
       "      <td>113931.57</td>\n",
       "      <td>1</td>\n",
       "    </tr>\n",
       "    <tr>\n",
       "      <th>3</th>\n",
       "      <td>4</td>\n",
       "      <td>15701354</td>\n",
       "      <td>Boni</td>\n",
       "      <td>699</td>\n",
       "      <td>France</td>\n",
       "      <td>Female</td>\n",
       "      <td>39</td>\n",
       "      <td>1</td>\n",
       "      <td>0.00</td>\n",
       "      <td>2</td>\n",
       "      <td>0</td>\n",
       "      <td>0</td>\n",
       "      <td>93826.63</td>\n",
       "      <td>0</td>\n",
       "    </tr>\n",
       "    <tr>\n",
       "      <th>4</th>\n",
       "      <td>5</td>\n",
       "      <td>15737888</td>\n",
       "      <td>Mitchell</td>\n",
       "      <td>850</td>\n",
       "      <td>Spain</td>\n",
       "      <td>Female</td>\n",
       "      <td>43</td>\n",
       "      <td>2</td>\n",
       "      <td>125510.82</td>\n",
       "      <td>1</td>\n",
       "      <td>1</td>\n",
       "      <td>1</td>\n",
       "      <td>79084.10</td>\n",
       "      <td>0</td>\n",
       "    </tr>\n",
       "  </tbody>\n",
       "</table>\n",
       "</div>"
      ],
      "text/plain": [
       "   RowNumber  CustomerId   Surname  CreditScore Geography  Gender  Age  \\\n",
       "0          1    15634602  Hargrave          619    France  Female   42   \n",
       "1          2    15647311      Hill          608     Spain  Female   41   \n",
       "2          3    15619304      Onio          502    France  Female   42   \n",
       "3          4    15701354      Boni          699    France  Female   39   \n",
       "4          5    15737888  Mitchell          850     Spain  Female   43   \n",
       "\n",
       "   Tenure    Balance  NumOfProducts  HasCrCard  IsActiveMember  \\\n",
       "0       2       0.00              1          1               1   \n",
       "1       1   83807.86              1          0               1   \n",
       "2       8  159660.80              3          1               0   \n",
       "3       1       0.00              2          0               0   \n",
       "4       2  125510.82              1          1               1   \n",
       "\n",
       "   EstimatedSalary  Exited  \n",
       "0        101348.88       1  \n",
       "1        112542.58       0  \n",
       "2        113931.57       1  \n",
       "3         93826.63       0  \n",
       "4         79084.10       0  "
      ]
     },
     "execution_count": 3,
     "metadata": {},
     "output_type": "execute_result"
    }
   ],
   "source": [
    "dataset.head()"
   ]
  },
  {
   "cell_type": "code",
   "execution_count": 4,
   "metadata": {},
   "outputs": [
    {
     "data": {
      "text/plain": [
       "<matplotlib.axes._subplots.AxesSubplot at 0x14d3efe7400>"
      ]
     },
     "execution_count": 4,
     "metadata": {},
     "output_type": "execute_result"
    },
    {
     "data": {
      "image/png": "[encoded data removed]",
      "text/plain": [
       "<Figure size 432x288 with 2 Axes>"
      ]
     },
     "metadata": {
      "needs_background": "light"
     },
     "output_type": "display_data"
    }
   ],
   "source": [
    "import seaborn as sns\n",
    "sns.heatmap(dataset.isnull())"
   ]
  },
  {
   "cell_type": "code",
   "execution_count": 5,
   "metadata": {},
   "outputs": [
    {
     "data": {
      "text/plain": [
       "<matplotlib.axes._subplots.AxesSubplot at 0x14d3f771780>"
      ]
     },
     "execution_count": 5,
     "metadata": {},
     "output_type": "execute_result"
    },
    {
     "data": {
      "image/png": "[encoded data removed]",
      "text/plain": [
       "<Figure size 432x288 with 1 Axes>"
      ]
     },
     "metadata": {
      "needs_background": "light"
     },
     "output_type": "display_data"
    }
   ],
   "source": [
    "sns.countplot(x=dataset['Geography'])"
   ]
  },
  {
   "cell_type": "code",
   "execution_count": 6,
   "metadata": {},
   "outputs": [
    {
     "data": {
      "text/plain": [
       "Index(['RowNumber', 'CustomerId', 'Surname', 'CreditScore', 'Geography',\n",
       "       'Gender', 'Age', 'Tenure', 'Balance', 'NumOfProducts', 'HasCrCard',\n",
       "       'IsActiveMember', 'EstimatedSalary', 'Exited'],\n",
       "      dtype='object')"
      ]
     },
     "execution_count": 6,
     "metadata": {},
     "output_type": "execute_result"
    }
   ],
   "source": [
    "dataset.columns"
   ]
  },
  {
   "cell_type": "code",
   "execution_count": 7,
   "metadata": {},
   "outputs": [],
   "source": [
    "y = dataset['Exited']"
   ]
  },
  {
   "cell_type": "code",
   "execution_count": 8,
   "metadata": {},
   "outputs": [],
   "source": [
    "X = dataset[['CreditScore', 'Age', 'Tenure', 'Balance', 'NumOfProducts', 'HasCrCard',\n",
    "       'IsActiveMember', 'EstimatedSalary']]"
   ]
  },
  {
   "cell_type": "code",
   "execution_count": 9,
   "metadata": {},
   "outputs": [],
   "source": [
    "Geography = pd.get_dummies(dataset['Geography'],drop_first=True)"
   ]
  },
  {
   "cell_type": "code",
   "execution_count": 10,
   "metadata": {},
   "outputs": [],
   "source": [
    "Gender = pd.get_dummies(dataset['Gender'],drop_first=True)"
   ]
  },
  {
   "cell_type": "code",
   "execution_count": 11,
   "metadata": {},
   "outputs": [],
   "source": [
    "X = pd.concat([X,Geography, Gender], axis=1)"
   ]
  },
  {
   "cell_type": "code",
   "execution_count": 12,
   "metadata": {},
   "outputs": [
    {
     "name": "stdout",
     "output_type": "stream",
     "text": [
      "<class 'pandas.core.frame.DataFrame'>\n",
      "RangeIndex: 10000 entries, 0 to 9999\n",
      "Data columns (total 11 columns):\n",
      " #   Column           Non-Null Count  Dtype  \n",
      "---  ------           --------------  -----  \n",
      " 0   CreditScore      10000 non-null  int64  \n",
      " 1   Age              10000 non-null  int64  \n",
      " 2   Tenure           10000 non-null  int64  \n",
      " 3   Balance          10000 non-null  float64\n",
      " 4   NumOfProducts    10000 non-null  int64  \n",
      " 5   HasCrCard        10000 non-null  int64  \n",
      " 6   IsActiveMember   10000 non-null  int64  \n",
      " 7   EstimatedSalary  10000 non-null  float64\n",
      " 8   Germany          10000 non-null  uint8  \n",
      " 9   Spain            10000 non-null  uint8  \n",
      " 10  Male             10000 non-null  uint8  \n",
      "dtypes: float64(2), int64(6), uint8(3)\n",
      "memory usage: 654.4 KB\n"
     ]
    }
   ],
   "source": [
    "X.info()"
   ]
  },
  {
   "cell_type": "code",
   "execution_count": 13,
   "metadata": {},
   "outputs": [],
   "source": [
    "from sklearn.model_selection import train_test_split\n",
    "X_train, X_test, y_train, y_test = train_test_split(X, y, test_size=0.30, random_state=42)"
   ]
  },
  {
   "cell_type": "code",
   "execution_count": 14,
   "metadata": {},
   "outputs": [
    {
     "data": {
      "text/html": [
       "<div>\n",
       "<style scoped>\n",
       "    .dataframe tbody tr th:only-of-type {\n",
       "        vertical-align: middle;\n",
       "    }\n",
       "\n",
       "    .dataframe tbody tr th {\n",
       "        vertical-align: top;\n",
       "    }\n",
       "\n",
       "    .dataframe thead th {\n",
       "        text-align: right;\n",
       "    }\n",
       "</style>\n",
       "<table border=\"1\" class=\"dataframe\">\n",
       "  <thead>\n",
       "    <tr style=\"text-align: right;\">\n",
       "      <th></th>\n",
       "      <th>CreditScore</th>\n",
       "      <th>Age</th>\n",
       "      <th>Tenure</th>\n",
       "      <th>Balance</th>\n",
       "      <th>NumOfProducts</th>\n",
       "      <th>HasCrCard</th>\n",
       "      <th>IsActiveMember</th>\n",
       "      <th>EstimatedSalary</th>\n",
       "      <th>Germany</th>\n",
       "      <th>Spain</th>\n",
       "      <th>Male</th>\n",
       "    </tr>\n",
       "  </thead>\n",
       "  <tbody>\n",
       "    <tr>\n",
       "      <th>9069</th>\n",
       "      <td>619</td>\n",
       "      <td>32</td>\n",
       "      <td>4</td>\n",
       "      <td>175406.13</td>\n",
       "      <td>2</td>\n",
       "      <td>1</td>\n",
       "      <td>1</td>\n",
       "      <td>172792.43</td>\n",
       "      <td>0</td>\n",
       "      <td>1</td>\n",
       "      <td>0</td>\n",
       "    </tr>\n",
       "    <tr>\n",
       "      <th>2603</th>\n",
       "      <td>643</td>\n",
       "      <td>34</td>\n",
       "      <td>7</td>\n",
       "      <td>160426.07</td>\n",
       "      <td>1</td>\n",
       "      <td>0</td>\n",
       "      <td>1</td>\n",
       "      <td>188533.11</td>\n",
       "      <td>1</td>\n",
       "      <td>0</td>\n",
       "      <td>0</td>\n",
       "    </tr>\n",
       "    <tr>\n",
       "      <th>7738</th>\n",
       "      <td>561</td>\n",
       "      <td>33</td>\n",
       "      <td>6</td>\n",
       "      <td>0.00</td>\n",
       "      <td>2</td>\n",
       "      <td>0</td>\n",
       "      <td>0</td>\n",
       "      <td>173680.39</td>\n",
       "      <td>0</td>\n",
       "      <td>0</td>\n",
       "      <td>1</td>\n",
       "    </tr>\n",
       "    <tr>\n",
       "      <th>1579</th>\n",
       "      <td>618</td>\n",
       "      <td>41</td>\n",
       "      <td>8</td>\n",
       "      <td>37702.79</td>\n",
       "      <td>1</td>\n",
       "      <td>1</td>\n",
       "      <td>1</td>\n",
       "      <td>195775.48</td>\n",
       "      <td>1</td>\n",
       "      <td>0</td>\n",
       "      <td>1</td>\n",
       "    </tr>\n",
       "    <tr>\n",
       "      <th>5058</th>\n",
       "      <td>714</td>\n",
       "      <td>37</td>\n",
       "      <td>9</td>\n",
       "      <td>148466.93</td>\n",
       "      <td>2</td>\n",
       "      <td>0</td>\n",
       "      <td>1</td>\n",
       "      <td>151280.96</td>\n",
       "      <td>0</td>\n",
       "      <td>0</td>\n",
       "      <td>1</td>\n",
       "    </tr>\n",
       "    <tr>\n",
       "      <th>...</th>\n",
       "      <td>...</td>\n",
       "      <td>...</td>\n",
       "      <td>...</td>\n",
       "      <td>...</td>\n",
       "      <td>...</td>\n",
       "      <td>...</td>\n",
       "      <td>...</td>\n",
       "      <td>...</td>\n",
       "      <td>...</td>\n",
       "      <td>...</td>\n",
       "      <td>...</td>\n",
       "    </tr>\n",
       "    <tr>\n",
       "      <th>5734</th>\n",
       "      <td>768</td>\n",
       "      <td>54</td>\n",
       "      <td>8</td>\n",
       "      <td>69712.74</td>\n",
       "      <td>1</td>\n",
       "      <td>1</td>\n",
       "      <td>1</td>\n",
       "      <td>69381.05</td>\n",
       "      <td>0</td>\n",
       "      <td>0</td>\n",
       "      <td>1</td>\n",
       "    </tr>\n",
       "    <tr>\n",
       "      <th>5191</th>\n",
       "      <td>682</td>\n",
       "      <td>58</td>\n",
       "      <td>1</td>\n",
       "      <td>0.00</td>\n",
       "      <td>1</td>\n",
       "      <td>1</td>\n",
       "      <td>1</td>\n",
       "      <td>706.50</td>\n",
       "      <td>0</td>\n",
       "      <td>0</td>\n",
       "      <td>0</td>\n",
       "    </tr>\n",
       "    <tr>\n",
       "      <th>5390</th>\n",
       "      <td>735</td>\n",
       "      <td>38</td>\n",
       "      <td>1</td>\n",
       "      <td>0.00</td>\n",
       "      <td>3</td>\n",
       "      <td>0</td>\n",
       "      <td>0</td>\n",
       "      <td>92220.12</td>\n",
       "      <td>0</td>\n",
       "      <td>0</td>\n",
       "      <td>0</td>\n",
       "    </tr>\n",
       "    <tr>\n",
       "      <th>860</th>\n",
       "      <td>667</td>\n",
       "      <td>43</td>\n",
       "      <td>8</td>\n",
       "      <td>190227.46</td>\n",
       "      <td>1</td>\n",
       "      <td>1</td>\n",
       "      <td>0</td>\n",
       "      <td>97508.04</td>\n",
       "      <td>0</td>\n",
       "      <td>0</td>\n",
       "      <td>1</td>\n",
       "    </tr>\n",
       "    <tr>\n",
       "      <th>7270</th>\n",
       "      <td>697</td>\n",
       "      <td>51</td>\n",
       "      <td>1</td>\n",
       "      <td>147910.30</td>\n",
       "      <td>1</td>\n",
       "      <td>1</td>\n",
       "      <td>1</td>\n",
       "      <td>53581.14</td>\n",
       "      <td>1</td>\n",
       "      <td>0</td>\n",
       "      <td>1</td>\n",
       "    </tr>\n",
       "  </tbody>\n",
       "</table>\n",
       "<p>7000 rows × 11 columns</p>\n",
       "</div>"
      ],
      "text/plain": [
       "      CreditScore  Age  Tenure    Balance  NumOfProducts  HasCrCard  \\\n",
       "9069          619   32       4  175406.13              2          1   \n",
       "2603          643   34       7  160426.07              1          0   \n",
       "7738          561   33       6       0.00              2          0   \n",
       "1579          618   41       8   37702.79              1          1   \n",
       "5058          714   37       9  148466.93              2          0   \n",
       "...           ...  ...     ...        ...            ...        ...   \n",
       "5734          768   54       8   69712.74              1          1   \n",
       "5191          682   58       1       0.00              1          1   \n",
       "5390          735   38       1       0.00              3          0   \n",
       "860           667   43       8  190227.46              1          1   \n",
       "7270          697   51       1  147910.30              1          1   \n",
       "\n",
       "      IsActiveMember  EstimatedSalary  Germany  Spain  Male  \n",
       "9069               1        172792.43        0      1     0  \n",
       "2603               1        188533.11        1      0     0  \n",
       "7738               0        173680.39        0      0     1  \n",
       "1579               1        195775.48        1      0     1  \n",
       "5058               1        151280.96        0      0     1  \n",
       "...              ...              ...      ...    ...   ...  \n",
       "5734               1         69381.05        0      0     1  \n",
       "5191               1           706.50        0      0     0  \n",
       "5390               0         92220.12        0      0     0  \n",
       "860                0         97508.04        0      0     1  \n",
       "7270               1         53581.14        1      0     1  \n",
       "\n",
       "[7000 rows x 11 columns]"
      ]
     },
     "execution_count": 14,
     "metadata": {},
     "output_type": "execute_result"
    }
   ],
   "source": [
    "X_train"
   ]
  },
  {
   "cell_type": "code",
   "execution_count": 15,
   "metadata": {},
   "outputs": [
    {
     "name": "stderr",
     "output_type": "stream",
     "text": [
      "Using TensorFlow backend.\n"
     ]
    }
   ],
   "source": [
    "from keras.optimizers import Adam"
   ]
  },
  {
   "cell_type": "code",
   "execution_count": 16,
   "metadata": {},
   "outputs": [],
   "source": [
    "from keras.models import Sequential"
   ]
  },
  {
   "cell_type": "code",
   "execution_count": 17,
   "metadata": {},
   "outputs": [],
   "source": [
    "from keras.layers import Dense"
   ]
  },
  {
   "cell_type": "code",
   "execution_count": 18,
   "metadata": {},
   "outputs": [],
   "source": [
    "model = Sequential()"
   ]
  },
  {
   "cell_type": "code",
   "execution_count": 19,
   "metadata": {},
   "outputs": [],
   "source": [
    "model.add(Dense(units=4, input_dim=11, activation='relu' ))"
   ]
  },
  {
   "cell_type": "code",
   "execution_count": 20,
   "metadata": {},
   "outputs": [],
   "source": [
    "model.add(Dense(units=4, activation='relu'))"
   ]
  },
  {
   "cell_type": "code",
   "execution_count": 21,
   "metadata": {},
   "outputs": [],
   "source": [
    "model.add(Dense(units=3, activation='relu'))"
   ]
  },
  {
   "cell_type": "code",
   "execution_count": 22,
   "metadata": {},
   "outputs": [],
   "source": [
    "model.add(Dense(units=1, activation='sigmoid'))"
   ]
  },
  {
   "cell_type": "code",
   "execution_count": 23,
   "metadata": {},
   "outputs": [],
   "source": [
    "model.compile(optimizer=Adam(learning_rate=0.0001), loss='binary_crossentropy', metrics=['accuracy'])"
   ]
  },
  {
   "cell_type": "code",
   "execution_count": 24,
   "metadata": {},
   "outputs": [
    {
     "name": "stdout",
     "output_type": "stream",
     "text": [
      "Epoch 1/50\n",
      "7000/7000 [==============================] - 0s 55us/step - loss: 5697.0866 - accuracy: 0.7910\n",
      "Epoch 2/50\n",
      "7000/7000 [==============================] - 0s 42us/step - loss: 4861.2983 - accuracy: 0.7907\n",
      "Epoch 3/50\n",
      "7000/7000 [==============================] - 0s 37us/step - loss: 3852.4916 - accuracy: 0.7903\n",
      "Epoch 4/50\n",
      "7000/7000 [==============================] - 0s 38us/step - loss: 2226.9340 - accuracy: 0.7893\n",
      "Epoch 5/50\n",
      "7000/7000 [==============================] - 0s 35us/step - loss: 814.6280 - accuracy: 0.7490\n",
      "Epoch 6/50\n",
      "7000/7000 [==============================] - 0s 38us/step - loss: 306.4703 - accuracy: 0.6660\n",
      "Epoch 7/50\n",
      "7000/7000 [==============================] - 0s 36us/step - loss: 103.0111 - accuracy: 0.7641\n",
      "Epoch 8/50\n",
      "7000/7000 [==============================] - 0s 40us/step - loss: 11.5722 - accuracy: 0.6011\n",
      "Epoch 9/50\n",
      "7000/7000 [==============================] - 0s 40us/step - loss: 3.1518 - accuracy: 0.5230\n",
      "Epoch 10/50\n",
      "7000/7000 [==============================] - 0s 38us/step - loss: 2.8625 - accuracy: 0.5279\n",
      "Epoch 11/50\n",
      "7000/7000 [==============================] - 0s 38us/step - loss: 2.6017 - accuracy: 0.5301\n",
      "Epoch 12/50\n",
      "7000/7000 [==============================] - 0s 38us/step - loss: 2.3515 - accuracy: 0.5233\n",
      "Epoch 13/50\n",
      "7000/7000 [==============================] - 0s 37us/step - loss: 2.0869 - accuracy: 0.7011\n",
      "Epoch 14/50\n",
      "7000/7000 [==============================] - 0s 37us/step - loss: 1.8306 - accuracy: 0.7924\n",
      "Epoch 15/50\n",
      "7000/7000 [==============================] - 0s 40us/step - loss: 1.6475 - accuracy: 0.7819\n",
      "Epoch 16/50\n",
      "7000/7000 [==============================] - 0s 43us/step - loss: 1.4991 - accuracy: 0.7906\n",
      "Epoch 17/50\n",
      "7000/7000 [==============================] - 0s 52us/step - loss: 1.3752 - accuracy: 0.7924\n",
      "Epoch 18/50\n",
      "7000/7000 [==============================] - 0s 48us/step - loss: 1.2405 - accuracy: 0.7847\n",
      "Epoch 19/50\n",
      "7000/7000 [==============================] - 0s 44us/step - loss: 1.1058 - accuracy: 0.7817\n",
      "Epoch 20/50\n",
      "7000/7000 [==============================] - 0s 39us/step - loss: 1.0311 - accuracy: 0.7924\n",
      "Epoch 21/50\n",
      "7000/7000 [==============================] - 0s 40us/step - loss: 1.0036 - accuracy: 0.7869\n",
      "Epoch 22/50\n",
      "7000/7000 [==============================] - 0s 40us/step - loss: 0.9694 - accuracy: 0.7919\n",
      "Epoch 23/50\n",
      "7000/7000 [==============================] - 0s 59us/step - loss: 0.9331 - accuracy: 0.7893\n",
      "Epoch 24/50\n",
      "7000/7000 [==============================] - 0s 42us/step - loss: 0.8994 - accuracy: 0.7890\n",
      "Epoch 25/50\n",
      "7000/7000 [==============================] - 0s 41us/step - loss: 0.8522 - accuracy: 0.7924\n",
      "Epoch 26/50\n",
      "7000/7000 [==============================] - 0s 60us/step - loss: 0.8198 - accuracy: 0.7879\n",
      "Epoch 27/50\n",
      "7000/7000 [==============================] - 0s 44us/step - loss: 0.7768 - accuracy: 0.7864\n",
      "Epoch 28/50\n",
      "7000/7000 [==============================] - 0s 42us/step - loss: 0.7618 - accuracy: 0.7896\n",
      "Epoch 29/50\n",
      "7000/7000 [==============================] - 0s 58us/step - loss: 0.7391 - accuracy: 0.7901\n",
      "Epoch 30/50\n",
      "7000/7000 [==============================] - 0s 43us/step - loss: 0.7199 - accuracy: 0.7909\n",
      "Epoch 31/50\n",
      "7000/7000 [==============================] - 0s 43us/step - loss: 0.7022 - accuracy: 0.7917\n",
      "Epoch 32/50\n",
      "7000/7000 [==============================] - 0s 48us/step - loss: 0.6966 - accuracy: 0.7787\n",
      "Epoch 33/50\n",
      "7000/7000 [==============================] - 0s 57us/step - loss: 0.6723 - accuracy: 0.7867\n",
      "Epoch 34/50\n",
      "7000/7000 [==============================] - 0s 49us/step - loss: 0.6304 - accuracy: 0.7901\n",
      "Epoch 35/50\n",
      "7000/7000 [==============================] - 0s 47us/step - loss: 0.6124 - accuracy: 0.7913\n",
      "Epoch 36/50\n",
      "7000/7000 [==============================] - 0s 43us/step - loss: 0.5756 - accuracy: 0.7924\n",
      "Epoch 37/50\n",
      "7000/7000 [==============================] - 0s 41us/step - loss: 0.5872 - accuracy: 0.7804\n",
      "Epoch 38/50\n",
      "7000/7000 [==============================] - 0s 41us/step - loss: 0.5899 - accuracy: 0.7846\n",
      "Epoch 39/50\n",
      "7000/7000 [==============================] - 0s 43us/step - loss: 0.5744 - accuracy: 0.7923\n",
      "Epoch 40/50\n",
      "7000/7000 [==============================] - 0s 59us/step - loss: 0.5768 - accuracy: 0.7913\n",
      "Epoch 41/50\n",
      "7000/7000 [==============================] - 0s 41us/step - loss: 0.5947 - accuracy: 0.7807\n",
      "Epoch 42/50\n",
      "7000/7000 [==============================] - 0s 49us/step - loss: 0.5818 - accuracy: 0.7836\n",
      "Epoch 43/50\n",
      "7000/7000 [==============================] - 0s 50us/step - loss: 0.5767 - accuracy: 0.7899\n",
      "Epoch 44/50\n",
      "7000/7000 [==============================] - 0s 50us/step - loss: 0.5752 - accuracy: 0.7869\n",
      "Epoch 45/50\n",
      "7000/7000 [==============================] - 0s 45us/step - loss: 0.5646 - accuracy: 0.7919\n",
      "Epoch 46/50\n",
      "7000/7000 [==============================] - 0s 39us/step - loss: 0.5629 - accuracy: 0.7923\n",
      "Epoch 47/50\n",
      "7000/7000 [==============================] - 0s 44us/step - loss: 0.5631 - accuracy: 0.7923\n",
      "Epoch 48/50\n",
      "7000/7000 [==============================] - 0s 43us/step - loss: 0.5645 - accuracy: 0.7896\n",
      "Epoch 49/50\n",
      "7000/7000 [==============================] - 0s 42us/step - loss: 0.5614 - accuracy: 0.7904\n",
      "Epoch 50/50\n",
      "7000/7000 [==============================] - 0s 52us/step - loss: 0.5612 - accuracy: 0.7907\n"
     ]
    }
   ],
   "source": [
    "train_model = model.fit(X_train, y_train, epochs=50)"
   ]
  },
  {
   "cell_type": "code",
   "execution_count": 25,
   "metadata": {},
   "outputs": [],
   "source": [
    "y_pred = model.predict(X_test)"
   ]
  },
  {
   "cell_type": "code",
   "execution_count": 26,
   "metadata": {},
   "outputs": [
    {
     "data": {
      "text/plain": [
       "0.79071426"
      ]
     },
     "execution_count": 26,
     "metadata": {},
     "output_type": "execute_result"
    }
   ],
   "source": [
    "text = train_model.history\n",
    "text['accuracy'][-1]"
   ]
  },
  {
   "cell_type": "code",
   "execution_count": 27,
   "metadata": {},
   "outputs": [
    {
     "data": {
      "text/plain": [
       "array([[0.1349026 ],\n",
       "       [0.1595218 ],\n",
       "       [0.19358891],\n",
       "       [0.35200515],\n",
       "       [0.16587107],\n",
       "       [0.35200515],\n",
       "       [0.21463494],\n",
       "       [0.35200515],\n",
       "       [0.17641242],\n",
       "       [0.16911076],\n",
       "       [0.25417784],\n",
       "       [0.10682487],\n",
       "       [0.25744906],\n",
       "       [0.10498437],\n",
       "       [0.28611633],\n",
       "       [0.35200515],\n",
       "       [0.10275072],\n",
       "       [0.14832962],\n",
       "       [0.28996742],\n",
       "       [0.22581288],\n",
       "       [0.12271875],\n",
       "       [0.22633402],\n",
       "       [0.14992326],\n",
       "       [0.28814507],\n",
       "       [0.20589234],\n",
       "       [0.13402523],\n",
       "       [0.16616546],\n",
       "       [0.35200515],\n",
       "       [0.23978446],\n",
       "       [0.12125137],\n",
       "       [0.19669323],\n",
       "       [0.2580456 ],\n",
       "       [0.18861023],\n",
       "       [0.35200515],\n",
       "       [0.24880749],\n",
       "       [0.35200515],\n",
       "       [0.23326264],\n",
       "       [0.11698998],\n",
       "       [0.35200515],\n",
       "       [0.35200515],\n",
       "       [0.15734169],\n",
       "       [0.18413883],\n",
       "       [0.21282005],\n",
       "       [0.35200515],\n",
       "       [0.20710912],\n",
       "       [0.14882693],\n",
       "       [0.35200515],\n",
       "       [0.35200515],\n",
       "       [0.35200515],\n",
       "       [0.35200515],\n",
       "       [0.35200515],\n",
       "       [0.35200515],\n",
       "       [0.2737938 ],\n",
       "       [0.35200515],\n",
       "       [0.21953842],\n",
       "       [0.19713528],\n",
       "       [0.16034701],\n",
       "       [0.14544873],\n",
       "       [0.35200515],\n",
       "       [0.26002625],\n",
       "       [0.25886184],\n",
       "       [0.35200515],\n",
       "       [0.17199767],\n",
       "       [0.35200515],\n",
       "       [0.2353818 ],\n",
       "       [0.29360694],\n",
       "       [0.35200515],\n",
       "       [0.2335742 ],\n",
       "       [0.25326028],\n",
       "       [0.35200515],\n",
       "       [0.1935576 ],\n",
       "       [0.1625116 ],\n",
       "       [0.20667645],\n",
       "       [0.35200515],\n",
       "       [0.35200515],\n",
       "       [0.19673477],\n",
       "       [0.14275502],\n",
       "       [0.26257297],\n",
       "       [0.35200515],\n",
       "       [0.35200515],\n",
       "       [0.35200515],\n",
       "       [0.17501116],\n",
       "       [0.2681255 ],\n",
       "       [0.2830668 ],\n",
       "       [0.16198692],\n",
       "       [0.35200515],\n",
       "       [0.13494402],\n",
       "       [0.22552304],\n",
       "       [0.35172188],\n",
       "       [0.12387414],\n",
       "       [0.35200515],\n",
       "       [0.35200515],\n",
       "       [0.27633908],\n",
       "       [0.28710452],\n",
       "       [0.14773865],\n",
       "       [0.27958846],\n",
       "       [0.22433053],\n",
       "       [0.35200515],\n",
       "       [0.24452029],\n",
       "       [0.164705  ]], dtype=float32)"
      ]
     },
     "execution_count": 27,
     "metadata": {},
     "output_type": "execute_result"
    }
   ],
   "source": [
    "y_pred[100:200,:]"
   ]
  },
  {
   "cell_type": "code",
   "execution_count": 28,
   "metadata": {},
   "outputs": [
    {
     "data": {
      "text/plain": [
       "321     0\n",
       "2678    0\n",
       "4625    0\n",
       "4949    0\n",
       "8328    0\n",
       "3337    1\n",
       "5589    1\n",
       "251     0\n",
       "3973    0\n",
       "6630    0\n",
       "Name: Exited, dtype: int64"
      ]
     },
     "execution_count": 28,
     "metadata": {},
     "output_type": "execute_result"
    }
   ],
   "source": [
    "y_test[30:40]"
   ]
  },
  {
   "cell_type": "code",
   "execution_count": null,
   "metadata": {},
   "outputs": [],
   "source": []
  },
  {
   "cell_type": "code",
   "execution_count": null,
   "metadata": {},
   "outputs": [],
   "source": []
  }
 ],
 "metadata": {
  "kernelspec": {
   "display_name": "Python 3",
   "language": "python",
   "name": "python3"
  },
  "language_info": {
   "codemirror_mode": {
    "name": "ipython",
    "version": 3
   },
   "file_extension": ".py",
   "mimetype": "text/x-python",
   "name": "python",
   "nbconvert_exporter": "python",
   "pygments_lexer": "ipython3",
   "version": "3.7.3"
  }
 },
 "nbformat": 4,
 "nbformat_minor": 4
}
